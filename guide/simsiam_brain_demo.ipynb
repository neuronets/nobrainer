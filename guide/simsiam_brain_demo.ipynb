{
  "nbformat": 4,
  "nbformat_minor": 0,
  "metadata": {
    "colab": {
      "name": "simsiam-brain-demo.ipynb",
      "provenance": [],
      "collapsed_sections": [],
      "machine_shape": "hm"
    },
    "kernelspec": {
      "name": "python3",
      "display_name": "Python 3"
    },
    "language_info": {
      "name": "python"
    },
    "accelerator": "GPU"
  },
  "cells": [
    {
      "cell_type": "code",
      "metadata": {
        "colab": {
          "base_uri": "https://localhost:8080/"
        },
        "id": "E_Bq_obJsGVA",
        "outputId": "313150c6-619d-417d-9562-9077d58b2fe4"
      },
      "source": [
        "!pip install 'git+https://github.com/dhritimandas/nobrainer.git'"
      ],
      "execution_count": 1,
      "outputs": [
        {
          "output_type": "stream",
          "text": [
            "Collecting git+https://github.com/dhritimandas/nobrainer.git\n",
            "  Cloning https://github.com/dhritimandas/nobrainer.git to /tmp/pip-req-build-i59y4elq\n",
            "  Running command git clone -q https://github.com/dhritimandas/nobrainer.git /tmp/pip-req-build-i59y4elq\n",
            "  Installing build dependencies ... \u001b[?25l\u001b[?25hdone\n",
            "  Getting requirements to build wheel ... \u001b[?25l\u001b[?25hdone\n",
            "    Preparing wheel metadata ... \u001b[?25l\u001b[?25hdone\n",
            "Requirement already satisfied: click in /usr/local/lib/python3.7/dist-packages (from nobrainer==0.1a24) (7.1.2)\n",
            "Requirement already satisfied: numpy in /usr/local/lib/python3.7/dist-packages (from nobrainer==0.1a24) (1.19.5)\n",
            "Requirement already satisfied: tensorflow>=2.4.0 in /usr/local/lib/python3.7/dist-packages (from nobrainer==0.1a24) (2.5.0)\n",
            "Requirement already satisfied: tensorflow-probability>=0.11.0 in /usr/local/lib/python3.7/dist-packages (from nobrainer==0.1a24) (0.13.0)\n",
            "Requirement already satisfied: nibabel in /usr/local/lib/python3.7/dist-packages (from nobrainer==0.1a24) (3.0.2)\n",
            "Requirement already satisfied: scikit-image in /usr/local/lib/python3.7/dist-packages (from nobrainer==0.1a24) (0.16.2)\n",
            "Requirement already satisfied: psutil in /usr/local/lib/python3.7/dist-packages (from nobrainer==0.1a24) (5.4.8)\n",
            "Requirement already satisfied: google-pasta~=0.2 in /usr/local/lib/python3.7/dist-packages (from tensorflow>=2.4.0->nobrainer==0.1a24) (0.2.0)\n",
            "Requirement already satisfied: opt-einsum~=3.3.0 in /usr/local/lib/python3.7/dist-packages (from tensorflow>=2.4.0->nobrainer==0.1a24) (3.3.0)\n",
            "Requirement already satisfied: flatbuffers~=1.12.0 in /usr/local/lib/python3.7/dist-packages (from tensorflow>=2.4.0->nobrainer==0.1a24) (1.12)\n",
            "Requirement already satisfied: astunparse~=1.6.3 in /usr/local/lib/python3.7/dist-packages (from tensorflow>=2.4.0->nobrainer==0.1a24) (1.6.3)\n",
            "Requirement already satisfied: termcolor~=1.1.0 in /usr/local/lib/python3.7/dist-packages (from tensorflow>=2.4.0->nobrainer==0.1a24) (1.1.0)\n",
            "Requirement already satisfied: six~=1.15.0 in /usr/local/lib/python3.7/dist-packages (from tensorflow>=2.4.0->nobrainer==0.1a24) (1.15.0)\n",
            "Requirement already satisfied: typing-extensions~=3.7.4 in /usr/local/lib/python3.7/dist-packages (from tensorflow>=2.4.0->nobrainer==0.1a24) (3.7.4.3)\n",
            "Requirement already satisfied: tensorflow-estimator<2.6.0,>=2.5.0rc0 in /usr/local/lib/python3.7/dist-packages (from tensorflow>=2.4.0->nobrainer==0.1a24) (2.5.0)\n",
            "Requirement already satisfied: protobuf>=3.9.2 in /usr/local/lib/python3.7/dist-packages (from tensorflow>=2.4.0->nobrainer==0.1a24) (3.17.3)\n",
            "Requirement already satisfied: gast==0.4.0 in /usr/local/lib/python3.7/dist-packages (from tensorflow>=2.4.0->nobrainer==0.1a24) (0.4.0)\n",
            "Requirement already satisfied: wheel~=0.35 in /usr/local/lib/python3.7/dist-packages (from tensorflow>=2.4.0->nobrainer==0.1a24) (0.36.2)\n",
            "Requirement already satisfied: keras-preprocessing~=1.1.2 in /usr/local/lib/python3.7/dist-packages (from tensorflow>=2.4.0->nobrainer==0.1a24) (1.1.2)\n",
            "Requirement already satisfied: keras-nightly~=2.5.0.dev in /usr/local/lib/python3.7/dist-packages (from tensorflow>=2.4.0->nobrainer==0.1a24) (2.5.0.dev2021032900)\n",
            "Requirement already satisfied: grpcio~=1.34.0 in /usr/local/lib/python3.7/dist-packages (from tensorflow>=2.4.0->nobrainer==0.1a24) (1.34.1)\n",
            "Requirement already satisfied: wrapt~=1.12.1 in /usr/local/lib/python3.7/dist-packages (from tensorflow>=2.4.0->nobrainer==0.1a24) (1.12.1)\n",
            "Requirement already satisfied: h5py~=3.1.0 in /usr/local/lib/python3.7/dist-packages (from tensorflow>=2.4.0->nobrainer==0.1a24) (3.1.0)\n",
            "Requirement already satisfied: absl-py~=0.10 in /usr/local/lib/python3.7/dist-packages (from tensorflow>=2.4.0->nobrainer==0.1a24) (0.12.0)\n",
            "Requirement already satisfied: tensorboard~=2.5 in /usr/local/lib/python3.7/dist-packages (from tensorflow>=2.4.0->nobrainer==0.1a24) (2.5.0)\n",
            "Requirement already satisfied: cached-property in /usr/local/lib/python3.7/dist-packages (from h5py~=3.1.0->tensorflow>=2.4.0->nobrainer==0.1a24) (1.5.2)\n",
            "Requirement already satisfied: requests<3,>=2.21.0 in /usr/local/lib/python3.7/dist-packages (from tensorboard~=2.5->tensorflow>=2.4.0->nobrainer==0.1a24) (2.23.0)\n",
            "Requirement already satisfied: markdown>=2.6.8 in /usr/local/lib/python3.7/dist-packages (from tensorboard~=2.5->tensorflow>=2.4.0->nobrainer==0.1a24) (3.3.4)\n",
            "Requirement already satisfied: tensorboard-plugin-wit>=1.6.0 in /usr/local/lib/python3.7/dist-packages (from tensorboard~=2.5->tensorflow>=2.4.0->nobrainer==0.1a24) (1.8.0)\n",
            "Requirement already satisfied: google-auth<2,>=1.6.3 in /usr/local/lib/python3.7/dist-packages (from tensorboard~=2.5->tensorflow>=2.4.0->nobrainer==0.1a24) (1.32.1)\n",
            "Requirement already satisfied: setuptools>=41.0.0 in /usr/local/lib/python3.7/dist-packages (from tensorboard~=2.5->tensorflow>=2.4.0->nobrainer==0.1a24) (57.2.0)\n",
            "Requirement already satisfied: tensorboard-data-server<0.7.0,>=0.6.0 in /usr/local/lib/python3.7/dist-packages (from tensorboard~=2.5->tensorflow>=2.4.0->nobrainer==0.1a24) (0.6.1)\n",
            "Requirement already satisfied: werkzeug>=0.11.15 in /usr/local/lib/python3.7/dist-packages (from tensorboard~=2.5->tensorflow>=2.4.0->nobrainer==0.1a24) (1.0.1)\n",
            "Requirement already satisfied: google-auth-oauthlib<0.5,>=0.4.1 in /usr/local/lib/python3.7/dist-packages (from tensorboard~=2.5->tensorflow>=2.4.0->nobrainer==0.1a24) (0.4.4)\n",
            "Requirement already satisfied: rsa<5,>=3.1.4 in /usr/local/lib/python3.7/dist-packages (from google-auth<2,>=1.6.3->tensorboard~=2.5->tensorflow>=2.4.0->nobrainer==0.1a24) (4.7.2)\n",
            "Requirement already satisfied: pyasn1-modules>=0.2.1 in /usr/local/lib/python3.7/dist-packages (from google-auth<2,>=1.6.3->tensorboard~=2.5->tensorflow>=2.4.0->nobrainer==0.1a24) (0.2.8)\n",
            "Requirement already satisfied: cachetools<5.0,>=2.0.0 in /usr/local/lib/python3.7/dist-packages (from google-auth<2,>=1.6.3->tensorboard~=2.5->tensorflow>=2.4.0->nobrainer==0.1a24) (4.2.2)\n",
            "Requirement already satisfied: requests-oauthlib>=0.7.0 in /usr/local/lib/python3.7/dist-packages (from google-auth-oauthlib<0.5,>=0.4.1->tensorboard~=2.5->tensorflow>=2.4.0->nobrainer==0.1a24) (1.3.0)\n",
            "Requirement already satisfied: importlib-metadata in /usr/local/lib/python3.7/dist-packages (from markdown>=2.6.8->tensorboard~=2.5->tensorflow>=2.4.0->nobrainer==0.1a24) (4.6.1)\n",
            "Requirement already satisfied: pyasn1<0.5.0,>=0.4.6 in /usr/local/lib/python3.7/dist-packages (from pyasn1-modules>=0.2.1->google-auth<2,>=1.6.3->tensorboard~=2.5->tensorflow>=2.4.0->nobrainer==0.1a24) (0.4.8)\n",
            "Requirement already satisfied: idna<3,>=2.5 in /usr/local/lib/python3.7/dist-packages (from requests<3,>=2.21.0->tensorboard~=2.5->tensorflow>=2.4.0->nobrainer==0.1a24) (2.10)\n",
            "Requirement already satisfied: certifi>=2017.4.17 in /usr/local/lib/python3.7/dist-packages (from requests<3,>=2.21.0->tensorboard~=2.5->tensorflow>=2.4.0->nobrainer==0.1a24) (2021.5.30)\n",
            "Requirement already satisfied: chardet<4,>=3.0.2 in /usr/local/lib/python3.7/dist-packages (from requests<3,>=2.21.0->tensorboard~=2.5->tensorflow>=2.4.0->nobrainer==0.1a24) (3.0.4)\n",
            "Requirement already satisfied: urllib3!=1.25.0,!=1.25.1,<1.26,>=1.21.1 in /usr/local/lib/python3.7/dist-packages (from requests<3,>=2.21.0->tensorboard~=2.5->tensorflow>=2.4.0->nobrainer==0.1a24) (1.24.3)\n",
            "Requirement already satisfied: oauthlib>=3.0.0 in /usr/local/lib/python3.7/dist-packages (from requests-oauthlib>=0.7.0->google-auth-oauthlib<0.5,>=0.4.1->tensorboard~=2.5->tensorflow>=2.4.0->nobrainer==0.1a24) (3.1.1)\n",
            "Requirement already satisfied: cloudpickle>=1.3 in /usr/local/lib/python3.7/dist-packages (from tensorflow-probability>=0.11.0->nobrainer==0.1a24) (1.3.0)\n",
            "Requirement already satisfied: decorator in /usr/local/lib/python3.7/dist-packages (from tensorflow-probability>=0.11.0->nobrainer==0.1a24) (4.4.2)\n",
            "Requirement already satisfied: dm-tree in /usr/local/lib/python3.7/dist-packages (from tensorflow-probability>=0.11.0->nobrainer==0.1a24) (0.1.6)\n",
            "Requirement already satisfied: zipp>=0.5 in /usr/local/lib/python3.7/dist-packages (from importlib-metadata->markdown>=2.6.8->tensorboard~=2.5->tensorflow>=2.4.0->nobrainer==0.1a24) (3.5.0)\n",
            "Requirement already satisfied: imageio>=2.3.0 in /usr/local/lib/python3.7/dist-packages (from scikit-image->nobrainer==0.1a24) (2.4.1)\n",
            "Requirement already satisfied: pillow>=4.3.0 in /usr/local/lib/python3.7/dist-packages (from scikit-image->nobrainer==0.1a24) (7.1.2)\n",
            "Requirement already satisfied: networkx>=2.0 in /usr/local/lib/python3.7/dist-packages (from scikit-image->nobrainer==0.1a24) (2.5.1)\n",
            "Requirement already satisfied: matplotlib!=3.0.0,>=2.0.0 in /usr/local/lib/python3.7/dist-packages (from scikit-image->nobrainer==0.1a24) (3.2.2)\n",
            "Requirement already satisfied: PyWavelets>=0.4.0 in /usr/local/lib/python3.7/dist-packages (from scikit-image->nobrainer==0.1a24) (1.1.1)\n",
            "Requirement already satisfied: scipy>=0.19.0 in /usr/local/lib/python3.7/dist-packages (from scikit-image->nobrainer==0.1a24) (1.4.1)\n",
            "Requirement already satisfied: pyparsing!=2.0.4,!=2.1.2,!=2.1.6,>=2.0.1 in /usr/local/lib/python3.7/dist-packages (from matplotlib!=3.0.0,>=2.0.0->scikit-image->nobrainer==0.1a24) (2.4.7)\n",
            "Requirement already satisfied: python-dateutil>=2.1 in /usr/local/lib/python3.7/dist-packages (from matplotlib!=3.0.0,>=2.0.0->scikit-image->nobrainer==0.1a24) (2.8.1)\n",
            "Requirement already satisfied: kiwisolver>=1.0.1 in /usr/local/lib/python3.7/dist-packages (from matplotlib!=3.0.0,>=2.0.0->scikit-image->nobrainer==0.1a24) (1.3.1)\n",
            "Requirement already satisfied: cycler>=0.10 in /usr/local/lib/python3.7/dist-packages (from matplotlib!=3.0.0,>=2.0.0->scikit-image->nobrainer==0.1a24) (0.10.0)\n",
            "Building wheels for collected packages: nobrainer\n",
            "  Building wheel for nobrainer (PEP 517) ... \u001b[?25l\u001b[?25hdone\n",
            "  Created wheel for nobrainer: filename=nobrainer-0.1a24-py3-none-any.whl size=89402 sha256=819435f6e625b992c8aae2f687873814734e9b80b9ff9220f904301491d03f1f\n",
            "  Stored in directory: /tmp/pip-ephem-wheel-cache-nhyynwtw/wheels/a2/2d/c7/2659e0b9d7f614f0dd3882e3e0169bee98f09cfd96aca92f0f\n",
            "Successfully built nobrainer\n",
            "Installing collected packages: nobrainer\n",
            "Successfully installed nobrainer-0.1a24\n"
          ],
          "name": "stdout"
        }
      ]
    },
    {
      "cell_type": "code",
      "metadata": {
        "colab": {
          "base_uri": "https://localhost:8080/"
        },
        "id": "WP32pkVltQKO",
        "outputId": "10079542-e4bf-45d3-d671-2aa7f41d570a"
      },
      "source": [
        "!pip install --no-cache-dir nilearn nibabel"
      ],
      "execution_count": 2,
      "outputs": [
        {
          "output_type": "stream",
          "text": [
            "Collecting nilearn\n",
            "  Downloading nilearn-0.8.0-py3-none-any.whl (4.9 MB)\n",
            "\u001b[K     |████████████████████████████████| 4.9 MB 4.1 MB/s \n",
            "\u001b[?25hRequirement already satisfied: nibabel in /usr/local/lib/python3.7/dist-packages (3.0.2)\n",
            "Requirement already satisfied: requests>=2 in /usr/local/lib/python3.7/dist-packages (from nilearn) (2.23.0)\n",
            "Requirement already satisfied: scikit-learn>=0.21 in /usr/local/lib/python3.7/dist-packages (from nilearn) (0.22.2.post1)\n",
            "Requirement already satisfied: numpy>=1.16 in /usr/local/lib/python3.7/dist-packages (from nilearn) (1.19.5)\n",
            "Requirement already satisfied: joblib>=0.12 in /usr/local/lib/python3.7/dist-packages (from nilearn) (1.0.1)\n",
            "Requirement already satisfied: scipy>=1.2 in /usr/local/lib/python3.7/dist-packages (from nilearn) (1.4.1)\n",
            "Requirement already satisfied: pandas>=0.24.0 in /usr/local/lib/python3.7/dist-packages (from nilearn) (1.1.5)\n",
            "Requirement already satisfied: python-dateutil>=2.7.3 in /usr/local/lib/python3.7/dist-packages (from pandas>=0.24.0->nilearn) (2.8.1)\n",
            "Requirement already satisfied: pytz>=2017.2 in /usr/local/lib/python3.7/dist-packages (from pandas>=0.24.0->nilearn) (2018.9)\n",
            "Requirement already satisfied: six>=1.5 in /usr/local/lib/python3.7/dist-packages (from python-dateutil>=2.7.3->pandas>=0.24.0->nilearn) (1.15.0)\n",
            "Requirement already satisfied: urllib3!=1.25.0,!=1.25.1,<1.26,>=1.21.1 in /usr/local/lib/python3.7/dist-packages (from requests>=2->nilearn) (1.24.3)\n",
            "Requirement already satisfied: idna<3,>=2.5 in /usr/local/lib/python3.7/dist-packages (from requests>=2->nilearn) (2.10)\n",
            "Requirement already satisfied: chardet<4,>=3.0.2 in /usr/local/lib/python3.7/dist-packages (from requests>=2->nilearn) (3.0.4)\n",
            "Requirement already satisfied: certifi>=2017.4.17 in /usr/local/lib/python3.7/dist-packages (from requests>=2->nilearn) (2021.5.30)\n",
            "Installing collected packages: nilearn\n",
            "Successfully installed nilearn-0.8.0\n"
          ],
          "name": "stdout"
        }
      ]
    },
    {
      "cell_type": "code",
      "metadata": {
        "colab": {
          "base_uri": "https://localhost:8080/"
        },
        "id": "dzX0qoxXw6YE",
        "outputId": "bc2471d2-6516-4653-ddeb-1ec85b45a2ca"
      },
      "source": [
        "!pip install pyyaml h5py  # Required to save models in HDF5 format"
      ],
      "execution_count": 3,
      "outputs": [
        {
          "output_type": "stream",
          "text": [
            "Requirement already satisfied: pyyaml in /usr/local/lib/python3.7/dist-packages (3.13)\n",
            "Requirement already satisfied: h5py in /usr/local/lib/python3.7/dist-packages (3.1.0)\n",
            "Requirement already satisfied: cached-property in /usr/local/lib/python3.7/dist-packages (from h5py) (1.5.2)\n",
            "Requirement already satisfied: numpy>=1.14.5 in /usr/local/lib/python3.7/dist-packages (from h5py) (1.19.5)\n"
          ],
          "name": "stdout"
        }
      ]
    },
    {
      "cell_type": "code",
      "metadata": {
        "colab": {
          "base_uri": "https://localhost:8080/"
        },
        "id": "_lloQPdwtX-T",
        "outputId": "e0dde400-910f-4374-d9bc-5db1f3c95e03"
      },
      "source": [
        "import os\n",
        "import glob\n",
        "import datetime\n",
        "from time import time\n",
        "\n",
        "import numpy as np\n",
        "import pandas as pd\n",
        "\n",
        "import nobrainer\n",
        "import tensorflow as tf\n",
        "from tensorflow.keras import layers, regularizers, activations\n",
        "\n",
        "import matplotlib.pyplot as plt\n",
        "from nibabel import processing\n",
        "from nilearn import plotting"
      ],
      "execution_count": 4,
      "outputs": [
        {
          "output_type": "stream",
          "text": [
            "/usr/local/lib/python3.7/dist-packages/nilearn/datasets/__init__.py:89: FutureWarning: Fetchers from the nilearn.datasets module will be updated in version 0.9 to return python strings instead of bytes and Pandas dataframes instead of Numpy arrays.\n",
            "  \"Numpy arrays.\", FutureWarning)\n"
          ],
          "name": "stderr"
        }
      ]
    },
    {
      "cell_type": "markdown",
      "metadata": {
        "id": "9vfgaorlufc4"
      },
      "source": [
        "# Downloading Data\n",
        "Assign random classification labels\n",
        "\n",
        "\n",
        "---\n",
        "\n",
        "\n",
        "\n",
        "---\n",
        "\n"
      ]
    },
    {
      "cell_type": "code",
      "metadata": {
        "colab": {
          "base_uri": "https://localhost:8080/"
        },
        "id": "yWRnvY3Muuo-",
        "outputId": "55559d2a-9e14-41ec-a21f-2584714128cb"
      },
      "source": [
        "import random\n",
        "\n",
        "csv_of_filepaths = nobrainer.utils.get_data()\n",
        "filepaths = nobrainer.io.read_csv(csv_of_filepaths)\n",
        "\n",
        "# Add random boolean values\n",
        "filepaths = [(x, random.choice([0, 1])) for x, _ in filepaths]"
      ],
      "execution_count": 5,
      "outputs": [
        {
          "output_type": "stream",
          "text": [
            "Downloading data from https://datasets.datalad.org/workshops/nih-2017/ds000114/derivatives/freesurfer/sub-01/mri/t1.mgz\n",
            "4276224/4268641 [==============================] - 2s 0us/step\n",
            "Downloading data from https://datasets.datalad.org/workshops/nih-2017/ds000114/derivatives/freesurfer/sub-01/mri/aparc+aseg.mgz\n",
            "344064/339508 [==============================] - 1s 2us/step\n",
            "Downloading data from https://datasets.datalad.org/workshops/nih-2017/ds000114/derivatives/freesurfer/sub-02/mri/t1.mgz\n",
            "3366912/3360239 [==============================] - 1s 0us/step\n",
            "Downloading data from https://datasets.datalad.org/workshops/nih-2017/ds000114/derivatives/freesurfer/sub-02/mri/aparc+aseg.mgz\n",
            "360448/354161 [==============================] - 1s 2us/step\n",
            "Downloading data from https://datasets.datalad.org/workshops/nih-2017/ds000114/derivatives/freesurfer/sub-03/mri/t1.mgz\n",
            "3907584/3900552 [==============================] - 2s 0us/step\n",
            "Downloading data from https://datasets.datalad.org/workshops/nih-2017/ds000114/derivatives/freesurfer/sub-03/mri/aparc+aseg.mgz\n",
            "352256/350451 [==============================] - 1s 2us/step\n",
            "Downloading data from https://datasets.datalad.org/workshops/nih-2017/ds000114/derivatives/freesurfer/sub-04/mri/t1.mgz\n",
            "5120000/5115676 [==============================] - 2s 0us/step\n",
            "Downloading data from https://datasets.datalad.org/workshops/nih-2017/ds000114/derivatives/freesurfer/sub-04/mri/aparc+aseg.mgz\n",
            "425984/419833 [==============================] - 1s 2us/step\n",
            "Downloading data from https://datasets.datalad.org/workshops/nih-2017/ds000114/derivatives/freesurfer/sub-05/mri/t1.mgz\n",
            "4743168/4738958 [==============================] - 2s 0us/step\n",
            "Downloading data from https://datasets.datalad.org/workshops/nih-2017/ds000114/derivatives/freesurfer/sub-05/mri/aparc+aseg.mgz\n",
            "417792/417547 [==============================] - 1s 2us/step\n",
            "Downloading data from https://datasets.datalad.org/workshops/nih-2017/ds000114/derivatives/freesurfer/sub-06/mri/t1.mgz\n",
            "4964352/4956283 [==============================] - 2s 0us/step\n",
            "Downloading data from https://datasets.datalad.org/workshops/nih-2017/ds000114/derivatives/freesurfer/sub-06/mri/aparc+aseg.mgz\n",
            "409600/403496 [==============================] - 1s 2us/step\n",
            "Downloading data from https://datasets.datalad.org/workshops/nih-2017/ds000114/derivatives/freesurfer/sub-07/mri/t1.mgz\n",
            "4276224/4271015 [==============================] - 2s 0us/step\n",
            "Downloading data from https://datasets.datalad.org/workshops/nih-2017/ds000114/derivatives/freesurfer/sub-07/mri/aparc+aseg.mgz\n",
            "360448/356833 [==============================] - 1s 2us/step\n",
            "Downloading data from https://datasets.datalad.org/workshops/nih-2017/ds000114/derivatives/freesurfer/sub-08/mri/t1.mgz\n",
            "4702208/4702059 [==============================] - 2s 0us/step\n",
            "Downloading data from https://datasets.datalad.org/workshops/nih-2017/ds000114/derivatives/freesurfer/sub-08/mri/aparc+aseg.mgz\n",
            "417792/414228 [==============================] - 1s 2us/step\n",
            "Downloading data from https://datasets.datalad.org/workshops/nih-2017/ds000114/derivatives/freesurfer/sub-09/mri/t1.mgz\n",
            "4227072/4220278 [==============================] - 2s 0us/step\n",
            "Downloading data from https://datasets.datalad.org/workshops/nih-2017/ds000114/derivatives/freesurfer/sub-09/mri/aparc+aseg.mgz\n",
            "401408/395977 [==============================] - 1s 2us/step\n",
            "Downloading data from https://datasets.datalad.org/workshops/nih-2017/ds000114/derivatives/freesurfer/sub-10/mri/t1.mgz\n",
            "3874816/3868870 [==============================] - 2s 0us/step\n",
            "Downloading data from https://datasets.datalad.org/workshops/nih-2017/ds000114/derivatives/freesurfer/sub-10/mri/aparc+aseg.mgz\n",
            "335872/335557 [==============================] - 1s 2us/step\n"
          ],
          "name": "stdout"
        }
      ]
    },
    {
      "cell_type": "code",
      "metadata": {
        "colab": {
          "base_uri": "https://localhost:8080/"
        },
        "id": "V1vPlRvLu3kr",
        "outputId": "87040b8a-eb1d-40ad-bd5c-76331fb56c45"
      },
      "source": [
        "filepaths"
      ],
      "execution_count": 6,
      "outputs": [
        {
          "output_type": "execute_result",
          "data": {
            "text/plain": [
              "[('/tmp/nobrainer-data/datasets/sub-01_t1.mgz', 1),\n",
              " ('/tmp/nobrainer-data/datasets/sub-02_t1.mgz', 0),\n",
              " ('/tmp/nobrainer-data/datasets/sub-03_t1.mgz', 0),\n",
              " ('/tmp/nobrainer-data/datasets/sub-04_t1.mgz', 0),\n",
              " ('/tmp/nobrainer-data/datasets/sub-05_t1.mgz', 1),\n",
              " ('/tmp/nobrainer-data/datasets/sub-06_t1.mgz', 0),\n",
              " ('/tmp/nobrainer-data/datasets/sub-07_t1.mgz', 0),\n",
              " ('/tmp/nobrainer-data/datasets/sub-08_t1.mgz', 1),\n",
              " ('/tmp/nobrainer-data/datasets/sub-09_t1.mgz', 0),\n",
              " ('/tmp/nobrainer-data/datasets/sub-10_t1.mgz', 1)]"
            ]
          },
          "metadata": {
            "tags": []
          },
          "execution_count": 6
        }
      ]
    },
    {
      "cell_type": "markdown",
      "metadata": {
        "id": "BHMF3waCu8K3"
      },
      "source": [
        "# Define dataset for pretrain, train and evaluation\n",
        "\n",
        "Assign 6 volumes for unsupervised training, 3 volumes for supervised-training and 1 volume for evaluation"
      ]
    },
    {
      "cell_type": "code",
      "metadata": {
        "id": "srJCxsB2vCtQ"
      },
      "source": [
        "train_paths = filepaths[:9]\n",
        "evaluate_paths = filepaths[9:]"
      ],
      "execution_count": 7,
      "outputs": []
    },
    {
      "cell_type": "markdown",
      "metadata": {
        "id": "mEduFn1tvy5U"
      },
      "source": [
        "Verify that all volumes have the same shape and that labels are integer-ish."
      ]
    },
    {
      "cell_type": "code",
      "metadata": {
        "colab": {
          "base_uri": "https://localhost:8080/"
        },
        "id": "W66ntVXJvvz6",
        "outputId": "6d3016e6-0fff-4eb3-e97d-ec0c29129be3"
      },
      "source": [
        "\n",
        "invalid = nobrainer.io.verify_features_labels(train_paths)\n",
        "assert not invalid\n",
        "\n",
        "invalid = nobrainer.io.verify_features_labels(evaluate_paths)\n",
        "assert not invalid"
      ],
      "execution_count": 8,
      "outputs": [
        {
          "output_type": "stream",
          "text": [
            "Verifying 9 examples\n",
            "9/9 [==============================] - 0s 11ms/step\n",
            "Verifying 1 examples\n",
            "1/1 [==============================] - 0s 105ms/step\n"
          ],
          "name": "stdout"
        }
      ]
    },
    {
      "cell_type": "code",
      "metadata": {
        "id": "ZgRNWyncv5ds"
      },
      "source": [
        "!mkdir -p data"
      ],
      "execution_count": 9,
      "outputs": []
    },
    {
      "cell_type": "markdown",
      "metadata": {
        "id": "7yveH9XswQeX"
      },
      "source": [
        "Convert pre-training, training and evaluation data to TFRecords.\n"
      ]
    },
    {
      "cell_type": "code",
      "metadata": {
        "colab": {
          "base_uri": "https://localhost:8080/"
        },
        "id": "QXc8gWLGwRZF",
        "outputId": "89263211-031a-4eea-fad3-815949501e02"
      },
      "source": [
        "nobrainer.tfrecord.write(\n",
        "    features_labels=train_paths,\n",
        "    filename_template='data/data-train_shard-{shard:03d}.tfrec',\n",
        "    examples_per_shard=3)\n",
        "\n",
        "nobrainer.tfrecord.write(\n",
        "    features_labels=evaluate_paths,\n",
        "    filename_template='data/data-evaluate_shard-{shard:03d}.tfrec',\n",
        "    examples_per_shard=1)"
      ],
      "execution_count": 10,
      "outputs": [
        {
          "output_type": "stream",
          "text": [
            "3/3 [==============================] - 15s 713ms/step\n",
            "1/1 [==============================] - 3s 3s/step\n"
          ],
          "name": "stdout"
        }
      ]
    },
    {
      "cell_type": "code",
      "metadata": {
        "colab": {
          "base_uri": "https://localhost:8080/"
        },
        "id": "4CPYtxN_wonT",
        "outputId": "da0a6c23-b4d1-4280-848c-1acc12514d17"
      },
      "source": [
        "!ls data"
      ],
      "execution_count": 11,
      "outputs": [
        {
          "output_type": "stream",
          "text": [
            "data-evaluate_shard-000.tfrec  data-train_shard-001.tfrec\n",
            "data-train_shard-000.tfrec     data-train_shard-002.tfrec\n"
          ],
          "name": "stdout"
        }
      ]
    },
    {
      "cell_type": "markdown",
      "metadata": {
        "id": "yVq9nFFl4PKg"
      },
      "source": [
        "Define model and dataset parameters"
      ]
    },
    {
      "cell_type": "code",
      "metadata": {
        "id": "-JW11cIP0i-d"
      },
      "source": [
        "n_classes = 1\n",
        "batch_size = 2\n",
        "volume_shape = (256, 256, 256)\n",
        "block_shape = (64, 64, 64)\n",
        "n_epochs = None\n",
        "num_parallel_calls = 2"
      ],
      "execution_count": 12,
      "outputs": []
    },
    {
      "cell_type": "markdown",
      "metadata": {
        "id": "k2zpuwWo59JW"
      },
      "source": [
        "# Create augmented dataset. "
      ]
    },
    {
      "cell_type": "markdown",
      "metadata": {
        "id": "IUHHjcE14m4D"
      },
      "source": [
        "For demonstration purposes, we add only Gaussian Noise and Random Rigid Transforms\n",
        "\n",
        "Augment type: Gaussian Noise; \n",
        "\n",
        "*set Augment= True, AugmentType=True*"
      ]
    },
    {
      "cell_type": "code",
      "metadata": {
        "colab": {
          "base_uri": "https://localhost:8080/"
        },
        "id": "Bmc8QNOh4jMo",
        "outputId": "83386c73-8ad4-49cf-9cf5-e5e3e42da95c"
      },
      "source": [
        "augment_noise = nobrainer.dataset.get_dataset(\n",
        "    file_pattern=\"data/data-train_shard*.tfrec\",\n",
        "    n_classes=n_classes,\n",
        "    batch_size=batch_size,\n",
        "    volume_shape=volume_shape,\n",
        "    scalar_label=True,\n",
        "    augment=True,\n",
        "    augmentType=True,\n",
        "    block_shape=block_shape,\n",
        "    n_epochs=n_epochs,\n",
        "    num_parallel_calls=num_parallel_calls,\n",
        ")"
      ],
      "execution_count": 13,
      "outputs": [
        {
          "output_type": "stream",
          "text": [
            "scalar true\n",
            "augment type: true, add Gaussian Noise\n"
          ],
          "name": "stdout"
        }
      ]
    },
    {
      "cell_type": "markdown",
      "metadata": {
        "id": "yCaSPG675Pgu"
      },
      "source": [
        "Augment rigid transforms: Rigid Transforms; \n",
        "\n",
        "*set Augment= True, AugmentType=False*"
      ]
    },
    {
      "cell_type": "code",
      "metadata": {
        "colab": {
          "base_uri": "https://localhost:8080/"
        },
        "id": "FWA0Iuft5VVy",
        "outputId": "4ec50abe-287f-445f-bffa-96f46c51639d"
      },
      "source": [
        "augment_rigid_tfm = nobrainer.dataset.get_dataset(\n",
        "    file_pattern=\"data/data-train_shard*.tfrec\",\n",
        "    n_classes=n_classes,\n",
        "    batch_size=batch_size,\n",
        "    volume_shape=volume_shape,\n",
        "    scalar_label=True,\n",
        "    augment=True,\n",
        "    augmentType=False,\n",
        "    block_shape=block_shape,\n",
        "    n_epochs=n_epochs,\n",
        "    num_parallel_calls=num_parallel_calls,\n",
        ")"
      ],
      "execution_count": 14,
      "outputs": [
        {
          "output_type": "stream",
          "text": [
            "scalar true\n",
            "augment type: false, add random transform\n",
            "WARNING:tensorflow:From /usr/local/lib/python3.7/dist-packages/tensorflow/python/ops/array_ops.py:5049: calling gather (from tensorflow.python.ops.array_ops) with validate_indices is deprecated and will be removed in a future version.\n",
            "Instructions for updating:\n",
            "The `validate_indices` argument has no effect. Indices are always validated on CPU and never validated on GPU.\n"
          ],
          "name": "stdout"
        }
      ]
    },
    {
      "cell_type": "markdown",
      "metadata": {
        "id": "YcnAywAp5kCA"
      },
      "source": [
        "Another set where we do NOT apply any augmentations\n",
        "\n",
        "*set Augment= False, do **not** give AugmentType option*\n",
        "\n"
      ]
    },
    {
      "cell_type": "code",
      "metadata": {
        "id": "kWtosXUk5vrl"
      },
      "source": [
        "augment_none = nobrainer.dataset.get_dataset(\n",
        "    file_pattern=\"data/data-train_shard*.tfrec\",\n",
        "    n_classes=n_classes,\n",
        "    batch_size=batch_size,\n",
        "    volume_shape=volume_shape,\n",
        "    scalar_label=True,\n",
        "    augment=False,\n",
        "    block_shape=block_shape,\n",
        "    n_epochs=n_epochs,\n",
        "    num_parallel_calls=num_parallel_calls,\n",
        ")"
      ],
      "execution_count": 15,
      "outputs": []
    },
    {
      "cell_type": "markdown",
      "metadata": {
        "id": "lFSndUe-7Kft"
      },
      "source": [
        "# Now define the evaluation dataset"
      ]
    },
    {
      "cell_type": "markdown",
      "metadata": {
        "id": "Wc2wbDSF7PB7"
      },
      "source": [
        "evaluate None; set Augment= False"
      ]
    },
    {
      "cell_type": "code",
      "metadata": {
        "id": "2rujB-fa7TO1"
      },
      "source": [
        "evaluate_none = nobrainer.dataset.get_dataset(\n",
        "    file_pattern=\"data/data-evaluate_shard*.tfrec\",\n",
        "    n_classes=n_classes,\n",
        "    batch_size=batch_size,\n",
        "    volume_shape=volume_shape,\n",
        "    scalar_label=True,\n",
        "    augment=False,\n",
        "    block_shape=block_shape,\n",
        "    n_epochs=n_epochs,\n",
        "    num_parallel_calls=num_parallel_calls,\n",
        ")"
      ],
      "execution_count": 16,
      "outputs": []
    },
    {
      "cell_type": "code",
      "metadata": {
        "colab": {
          "base_uri": "https://localhost:8080/"
        },
        "id": "jLxrK20I7cYO",
        "outputId": "2c801a86-0540-4d96-98ee-dc9ed0a7bb69"
      },
      "source": [
        "print(\"supervised data noise: \",augment_noise)\n",
        "print(\"supervised data rigid: \",augment_rigid_tfm)\n",
        "print(\"supervised data none: \",augment_none)\n",
        "print(\"dataset_evaluate: \",evaluate_none)\n"
      ],
      "execution_count": 17,
      "outputs": [
        {
          "output_type": "stream",
          "text": [
            "supervised data noise:  <RepeatDataset shapes: ((2, 64, 64, 64, 1), (2,)), types: (tf.float32, tf.float32)>\n",
            "supervised data rigid:  <RepeatDataset shapes: ((2, 64, 64, 64, 1), (2,)), types: (tf.float32, tf.float32)>\n",
            "supervised data none:  <RepeatDataset shapes: ((2, 64, 64, 64, 1), (2,)), types: (tf.float32, tf.float32)>\n",
            "dataset_evaluate:  <RepeatDataset shapes: ((2, 64, 64, 64, 1), (2,)), types: (tf.float32, tf.float32)>\n"
          ],
          "name": "stdout"
        }
      ]
    },
    {
      "cell_type": "markdown",
      "metadata": {
        "id": "6pVsfBYs8kKm"
      },
      "source": [
        "## create unsupervised datasets by removing labels"
      ]
    },
    {
      "cell_type": "code",
      "metadata": {
        "id": "zUzOT_uz8mkd"
      },
      "source": [
        "unsupv_augment_noise = augment_noise.map(lambda x, y:x)\n",
        "unsupv_augment_rigid_tfm = augment_rigid_tfm.map(lambda x, y:x)\n",
        "unsupv_augment_none = augment_none.map(lambda x, y:x)\n"
      ],
      "execution_count": 18,
      "outputs": []
    },
    {
      "cell_type": "code",
      "metadata": {
        "colab": {
          "base_uri": "https://localhost:8080/"
        },
        "id": "vD0_mKZk8_Wk",
        "outputId": "f2306130-beb1-44c2-c77f-1f8ed9084888"
      },
      "source": [
        "print(\"unsupervised data noise \",unsupv_augment_noise)\n",
        "print(\"unsupervised data rigid \",unsupv_augment_rigid_tfm)\n",
        "print(\"unsupervised data none \",unsupv_augment_none)"
      ],
      "execution_count": 19,
      "outputs": [
        {
          "output_type": "stream",
          "text": [
            "unsupervised data noise  <MapDataset shapes: (2, 64, 64, 64, 1), types: tf.float32>\n",
            "unsupervised data rigid  <MapDataset shapes: (2, 64, 64, 64, 1), types: tf.float32>\n",
            "unsupervised data none  <MapDataset shapes: (2, 64, 64, 64, 1), types: tf.float32>\n"
          ],
          "name": "stdout"
        }
      ]
    },
    {
      "cell_type": "markdown",
      "metadata": {
        "id": "QeFe9-RH97t6"
      },
      "source": [
        "# zip augmented datasets to create a training pair (noise, rigid transforms)"
      ]
    },
    {
      "cell_type": "code",
      "metadata": {
        "colab": {
          "base_uri": "https://localhost:8080/"
        },
        "id": "wRTzkY7B99mV",
        "outputId": "9d9c4a16-f3cd-4968-b2fd-93f73563178d"
      },
      "source": [
        "unsupv_augment_noise_rigid = tf.data.Dataset.zip((unsupv_augment_noise, unsupv_augment_rigid_tfm))\n",
        "\n",
        "unsupv_augment_noise_rigid"
      ],
      "execution_count": 20,
      "outputs": [
        {
          "output_type": "execute_result",
          "data": {
            "text/plain": [
              "<ZipDataset shapes: ((2, 64, 64, 64, 1), (2, 64, 64, 64, 1)), types: (tf.float32, tf.float32)>"
            ]
          },
          "metadata": {
            "tags": []
          },
          "execution_count": 20
        }
      ]
    },
    {
      "cell_type": "code",
      "metadata": {
        "id": "5G2uK26c-m3m"
      },
      "source": [
        "steps = nobrainer.dataset.get_steps_per_epoch(\n",
        "    n_volumes = len(train_paths),\n",
        "    volume_shape=volume_shape,\n",
        "    block_shape=block_shape,\n",
        "    batch_size=batch_size\n",
        ")\n",
        "\n",
        "steps = 62 #using len(train_paths) gives 288 steps which overfits "
      ],
      "execution_count": 66,
      "outputs": []
    },
    {
      "cell_type": "markdown",
      "metadata": {
        "id": "VfDs28fv9GaF"
      },
      "source": [
        "Define SimSiam parameters"
      ]
    },
    {
      "cell_type": "code",
      "metadata": {
        "id": "aI2jrYsK9IRp"
      },
      "source": [
        " weight_decay = 0.0005\n",
        " projection_dim = 4096 #Depending on the dataset, increasing the projection dim may also help* \n",
        " latent_dim = 512\n"
      ],
      "execution_count": 67,
      "outputs": []
    },
    {
      "cell_type": "markdown",
      "metadata": {
        "id": "bXaxk1mDdaTV"
      },
      "source": [
        "Define and instantiate the **encoder and predictor** for the simsiam architecture"
      ]
    },
    {
      "cell_type": "code",
      "metadata": {
        "id": "wRgyfN7reK6Y"
      },
      "source": [
        "from nobrainer.models.simsiam_brain import simsiam_brain\n",
        "from nobrainer import simsiam_brain_trainer"
      ],
      "execution_count": 68,
      "outputs": []
    },
    {
      "cell_type": "code",
      "metadata": {
        "colab": {
          "base_uri": "https://localhost:8080/"
        },
        "id": "-_hFMieUdZFQ",
        "outputId": "4325b66a-266a-409f-a590-6bdb1c76a151"
      },
      "source": [
        "encoder, predictor = simsiam_brain(n_classes=n_classes, input_shape=(*block_shape, 1),weight_decay = weight_decay,\n",
        "    projection_dim = projection_dim,\n",
        "    latent_dim = latent_dim,\n",
        "    )"
      ],
      "execution_count": 69,
      "outputs": [
        {
          "output_type": "stream",
          "text": [
            "projection dimension is:  4096\n",
            "latent dimension:  512\n",
            "may not show both encoder and predictor architecture summary due to lack of space....\n"
          ],
          "name": "stdout"
        }
      ]
    },
    {
      "cell_type": "code",
      "metadata": {
        "colab": {
          "base_uri": "https://localhost:8080/"
        },
        "id": "8twk5_dxeTn1",
        "outputId": "56b0ad63-77c4-45e5-a696-7918186e9aca"
      },
      "source": [
        "encoder.summary()"
      ],
      "execution_count": 70,
      "outputs": [
        {
          "output_type": "stream",
          "text": [
            "Model: \"encoder\"\n",
            "_________________________________________________________________\n",
            "Layer (type)                 Output Shape              Param #   \n",
            "=================================================================\n",
            "input_11 (InputLayer)        [(None, 64, 64, 64, 1)]   0         \n",
            "_________________________________________________________________\n",
            "highresnet (Functional)      (None, 64, 64, 64, 1)     874785    \n",
            "_________________________________________________________________\n",
            "backbone_pool (GlobalAverage (None, 1)                 0         \n",
            "_________________________________________________________________\n",
            "dense_12 (Dense)             (None, 4096)              4096      \n",
            "_________________________________________________________________\n",
            "batch_normalization_81 (Batc (None, 4096)              16384     \n",
            "_________________________________________________________________\n",
            "leaky_re_lu_6 (LeakyReLU)    (None, 4096)              0         \n",
            "_________________________________________________________________\n",
            "dense_13 (Dense)             (None, 4096)              16777216  \n",
            "_________________________________________________________________\n",
            "batch_normalization_82 (Batc (None, 4096)              16384     \n",
            "=================================================================\n",
            "Total params: 17,688,865\n",
            "Trainable params: 17,671,137\n",
            "Non-trainable params: 17,728\n",
            "_________________________________________________________________\n"
          ],
          "name": "stdout"
        }
      ]
    },
    {
      "cell_type": "code",
      "metadata": {
        "colab": {
          "base_uri": "https://localhost:8080/"
        },
        "id": "twrD8yo0eXa7",
        "outputId": "4ca597ac-54b7-456e-9500-e5c36b3cee14"
      },
      "source": [
        "predictor.summary()"
      ],
      "execution_count": 71,
      "outputs": [
        {
          "output_type": "stream",
          "text": [
            "Model: \"predictor\"\n",
            "_________________________________________________________________\n",
            "Layer (type)                 Output Shape              Param #   \n",
            "=================================================================\n",
            "dense_14 (Dense)             (None, 512)               2097152   \n",
            "_________________________________________________________________\n",
            "leaky_re_lu_7 (LeakyReLU)    (None, 512)               0         \n",
            "_________________________________________________________________\n",
            "batch_normalization_83 (Batc (None, 512)               2048      \n",
            "_________________________________________________________________\n",
            "dense_15 (Dense)             (None, 4096)              2101248   \n",
            "=================================================================\n",
            "Total params: 4,200,448\n",
            "Trainable params: 4,199,424\n",
            "Non-trainable params: 1,024\n",
            "_________________________________________________________________\n"
          ],
          "name": "stdout"
        }
      ]
    },
    {
      "cell_type": "markdown",
      "metadata": {
        "id": "MMtlJ88U-_zk"
      },
      "source": [
        "# Define learning rate (cosine decayed function)"
      ]
    },
    {
      "cell_type": "code",
      "metadata": {
        "id": "BSEP3mRZ_DOw"
      },
      "source": [
        "lr_decayed_fn = tf.keras.experimental.CosineDecay(\n",
        "    initial_learning_rate=0.0005, decay_steps=steps #original initial rate as per paper = 0.001\n",
        ")"
      ],
      "execution_count": 72,
      "outputs": []
    },
    {
      "cell_type": "markdown",
      "metadata": {
        "id": "3uHbTpZC_Hzo"
      },
      "source": [
        "# Define early stopping callback"
      ]
    },
    {
      "cell_type": "code",
      "metadata": {
        "id": "mkC-vbhw_Jua"
      },
      "source": [
        "early_stopping = tf.keras.callbacks.EarlyStopping(\n",
        "    monitor=\"loss\", patience=5, restore_best_weights=True\n",
        ")"
      ],
      "execution_count": 73,
      "outputs": []
    },
    {
      "cell_type": "markdown",
      "metadata": {
        "id": "JFyleqAI_cxU"
      },
      "source": [
        "# Define training and compile"
      ]
    },
    {
      "cell_type": "code",
      "metadata": {
        "id": "pmEOb8aR_eit"
      },
      "source": [
        "epochs=10"
      ],
      "execution_count": 74,
      "outputs": []
    },
    {
      "cell_type": "code",
      "metadata": {
        "id": "OryXAl7EeqsB"
      },
      "source": [
        "model = simsiam_brain_trainer.SimSiam(encoder, predictor)\n",
        "model.compile(optimizer=tf.keras.optimizers.SGD(lr_decayed_fn, momentum=0.6))"
      ],
      "execution_count": 75,
      "outputs": []
    },
    {
      "cell_type": "markdown",
      "metadata": {
        "id": "1BZFGyr5AYjk"
      },
      "source": [
        "# Fit the model"
      ]
    },
    {
      "cell_type": "code",
      "metadata": {
        "colab": {
          "base_uri": "https://localhost:8080/"
        },
        "id": "nheqUMiNAaHu",
        "outputId": "c48cfd8c-7d4a-49cf-fb6d-ad12d116e0ca"
      },
      "source": [
        "history = model.fit(unsupv_augment_noise_rigid, epochs=epochs, steps_per_epoch = steps, callbacks=[early_stopping])"
      ],
      "execution_count": 76,
      "outputs": [
        {
          "output_type": "stream",
          "text": [
            "Epoch 1/10\n",
            "62/62 [==============================] - 112s 2s/step - loss: -0.7799\n",
            "Epoch 2/10\n",
            "62/62 [==============================] - 101s 2s/step - loss: -0.9980\n",
            "Epoch 3/10\n",
            "62/62 [==============================] - 102s 2s/step - loss: -0.9971\n",
            "Epoch 4/10\n",
            "62/62 [==============================] - 101s 2s/step - loss: -0.9979\n",
            "Epoch 5/10\n",
            "62/62 [==============================] - 107s 2s/step - loss: -0.9976\n",
            "Epoch 6/10\n",
            "62/62 [==============================] - 102s 2s/step - loss: -0.9979\n",
            "Epoch 7/10\n",
            "62/62 [==============================] - 102s 2s/step - loss: -0.9975\n"
          ],
          "name": "stdout"
        }
      ]
    },
    {
      "cell_type": "code",
      "metadata": {
        "id": "6nGSWnl9k8zL",
        "colab": {
          "base_uri": "https://localhost:8080/",
          "height": 281
        },
        "outputId": "df3e9152-3c49-46d8-fef0-9d45ede0f74e"
      },
      "source": [
        "plt.plot(history.history[\"loss\"])\n",
        "plt.grid()\n",
        "plt.title(\"Negative Cosine Similairty\")\n",
        "plt.show()"
      ],
      "execution_count": 77,
      "outputs": [
        {
          "output_type": "display_data",
          "data": {
            "image/png": "[encoded data removed]",
            "text/plain": [
              "<Figure size 432x288 with 1 Axes>"
            ]
          },
          "metadata": {
            "tags": [],
            "needs_background": "light"
          }
        }
      ]
    }
  ]
}