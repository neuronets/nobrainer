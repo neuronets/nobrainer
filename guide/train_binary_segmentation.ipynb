{
 "nbformat": 4,
 "nbformat_minor": 0,
 "metadata": {
  "kernelspec": {
   "name": "python3",
   "display_name": "Python 3"
  },
  "colab": {
   "name": "train_binary_segmentation.ipynb",
   "provenance": []
  },
  "language_info": {
   "name": "python"
  },
  "accelerator": "GPU"
 },
 "cells": [
  {
   "cell_type": "markdown",
   "metadata": {
    "id": "ijHnNTIjDkt0"
   },
   "source": [
    "# Train a neural network for binary volumetric segmentation\n",
    "\n",
    "In this notebook, we will use Nobrainer to train a model for brain extraction. Brain extraction is a common step in processing neuroimaging data. It is a voxel-wise, binary classification task, where each voxel is classified as brain or not brain. Incidentally, the name for the Nobrainer framework comes from creating models for brain extraction.\n",
    "\n",
    "In the following cells, we will:\n",
    "\n",
    "1. Get sample T1-weighted MR scans as features and FreeSurfer segmentations as labels.\n",
    "    - We will binarize the FreeSurfer to get a precise brainmask.\n",
    "2. Convert the data to TFRecords format.\n",
    "3. Create two Datasets of the features and labels.\n",
    "    - One dataset will be for training and the other will be for evaluation.\n",
    "4. Instantiate a 3D convolutional neural network.\n",
    "5. Choose a loss function and metrics to use.\n",
    "6. Train on part of the data.\n",
    "7. Evaluate on the rest of the data.\n",
    "\n",
    "## Google Colaboratory\n",
    "\n",
    "If you are using Colab, please switch your runtime to GPU. To do this, select `Runtime > Change runtime type` in the top menu. Then select GPU under `Hardware accelerator`. A GPU greatly speeds up training."
   ]
  },
  {
   "cell_type": "code",
   "metadata": {
    "id": "WhBnt2WdDlx9"
   },
   "source": [
    "!pip install --no-cache-dir nobrainer nilearn"
   ],
   "execution_count": null,
   "outputs": []
  },
  {
   "cell_type": "code",
   "metadata": {
    "id": "Ht_CGSk1Dkt3"
   },
   "source": [
    "import nobrainer"
   ],
   "execution_count": null,
   "outputs": []
  },
  {
   "cell_type": "markdown",
   "metadata": {
    "id": "hVCchp9uDkt3"
   },
   "source": [
    "# Get sample features and labels\n",
    "\n",
    "We use 9 pairs of volumes for training and 1 pair of volumes for evaluation. Many more volumes would be required to train a model for any useful purpose."
   ]
  },
  {
   "cell_type": "code",
   "metadata": {
    "id": "YpqTxNu4Dkt4"
   },
   "source": [
    "csv_of_filepaths = nobrainer.utils.get_data()\n",
    "filepaths = nobrainer.io.read_csv(csv_of_filepaths)\n",
    "\n",
    "train_paths = filepaths[:9]\n",
    "evaluate_paths = filepaths[9:]"
   ],
   "execution_count": null,
   "outputs": []
  },
  {
   "cell_type": "markdown",
   "metadata": {
    "id": "m3P3BUQKiCjg"
   },
   "source": [
    "Here is an example of one training pair, with the brainmask overlaid on the anatomical image."
   ]
  },
  {
   "cell_type": "code",
   "metadata": {
    "id": "9tAhbM4ChgIj"
   },
   "source": [
    "from nilearn import plotting\n",
    "plotting.plot_roi(train_paths[0][1], bg_img=train_paths[0][0], alpha=0.4, vmin=0, vmax=1)"
   ],
   "execution_count": null,
   "outputs": []
  },
  {
   "cell_type": "markdown",
   "metadata": {
    "id": "ScgF78rmDkt4"
   },
   "source": [
    "# Convert medical images to TFRecords\n",
    "\n",
    "Remember how many full volumes are in the TFRecords files. This will be necessary to know how many steps are in on training epoch. The default training method needs to know this number, because Datasets don't always know how many items they contain."
   ]
  },
  {
   "cell_type": "code",
   "metadata": {
    "id": "FXRdwLmrDkt4"
   },
   "source": [
    "# Verify that all volumes have the same shape and that labels are integer-ish.\n",
    "\n",
    "invalid = nobrainer.io.verify_features_labels(train_paths)\n",
    "assert not invalid\n",
    "\n",
    "invalid = nobrainer.io.verify_features_labels(evaluate_paths)\n",
    "assert not invalid"
   ],
   "execution_count": null,
   "outputs": []
  },
  {
   "cell_type": "code",
   "metadata": {
    "id": "8w4-WInVDkt5"
   },
   "source": [
    "!mkdir -p data"
   ],
   "execution_count": null,
   "outputs": []
  },
  {
   "cell_type": "code",
   "metadata": {
    "scrolled": true,
    "id": "avTW6Z6UDkt5"
   },
   "source": [
    "# Convert training and evaluation data to TFRecords.\n",
    "\n",
    "nobrainer.tfrecord.write(\n",
    "    features_labels=train_paths,\n",
    "    filename_template='data/data-train_shard-{shard:03d}.tfrec',\n",
    "    examples_per_shard=3)\n",
    "\n",
    "nobrainer.tfrecord.write(\n",
    "    features_labels=evaluate_paths,\n",
    "    filename_template='data/data-evaluate_shard-{shard:03d}.tfrec',\n",
    "    examples_per_shard=1)"
   ],
   "execution_count": null,
   "outputs": []
  },
  {
   "cell_type": "code",
   "metadata": {
    "id": "cGSTqNZjDkt6"
   },
   "source": [
    "!ls data"
   ],
   "execution_count": null,
   "outputs": []
  },
  {
   "cell_type": "markdown",
   "metadata": {
    "id": "GJkQB0OJDkt6"
   },
   "source": [
    "# Create Datasets"
   ]
  },
  {
   "cell_type": "code",
   "metadata": {
    "id": "Fudi55viDkt6"
   },
   "source": [
    "n_classes = 1\n",
    "batch_size = 2\n",
    "volume_shape = (256, 256, 256)\n",
    "block_shape = (128, 128, 128)\n",
    "n_epochs = None\n",
    "augment = False\n",
    "shuffle_buffer_size = 10\n",
    "num_parallel_calls = 2"
   ],
   "execution_count": null,
   "outputs": []
  },
  {
   "cell_type": "code",
   "metadata": {
    "id": "smvrL4MCDkt6"
   },
   "source": [
    "dataset_train = nobrainer.dataset.get_dataset(\n",
    "    file_pattern='data/data-train_shard-*.tfrec',\n",
    "    n_classes=n_classes,\n",
    "    batch_size=batch_size,\n",
    "    volume_shape=volume_shape,\n",
    "    block_shape=block_shape,\n",
    "    n_epochs=n_epochs,\n",
    "    augment=augment,\n",
    "    shuffle_buffer_size=shuffle_buffer_size,\n",
    "    num_parallel_calls=num_parallel_calls,\n",
    ")\n",
    "\n",
    "dataset_evaluate = nobrainer.dataset.get_dataset(\n",
    "    file_pattern='data/data-evaluate_shard-*.tfrec',\n",
    "    n_classes=n_classes,\n",
    "    batch_size=batch_size,\n",
    "    volume_shape=volume_shape,\n",
    "    block_shape=block_shape,\n",
    "    n_epochs=1,\n",
    "    augment=False,\n",
    "    shuffle_buffer_size=None,\n",
    "    num_parallel_calls=1,\n",
    ")"
   ],
   "execution_count": null,
   "outputs": []
  },
  {
   "cell_type": "code",
   "metadata": {
    "id": "L12vLTMMDkt7"
   },
   "source": [
    "dataset_train"
   ],
   "execution_count": null,
   "outputs": []
  },
  {
   "cell_type": "code",
   "metadata": {
    "id": "EXyPSdCWDkt7"
   },
   "source": [
    "dataset_evaluate"
   ],
   "execution_count": null,
   "outputs": []
  },
  {
   "cell_type": "markdown",
   "metadata": {
    "id": "OfkLPtDCDkt7"
   },
   "source": [
    "# Instantiate a neural network"
   ]
  },
  {
   "cell_type": "code",
   "metadata": {
    "id": "a8EHfC-0Dkt7"
   },
   "source": [
    "model = nobrainer.models.unet(\n",
    "    n_classes=n_classes, \n",
    "    input_shape=(*block_shape, 1),\n",
    "    batchnorm=True,\n",
    ")\n",
    "\n",
    "# A different model can be specified as below.\n",
    "\n",
    "# model = nobrainer.models.meshnet(\n",
    "#     n_classes=n_classes, \n",
    "#     input_shape=(*block_shape, 1),\n",
    "# )\n"
   ],
   "execution_count": null,
   "outputs": []
  },
  {
   "cell_type": "code",
   "metadata": {
    "scrolled": false,
    "id": "0zNfoG2KDkt8"
   },
   "source": [
    "model.summary()"
   ],
   "execution_count": null,
   "outputs": []
  },
  {
   "cell_type": "markdown",
   "metadata": {
    "id": "BMyOubHJDkt8"
   },
   "source": [
    "# Choose a loss function and metrics\n",
    "\n",
    "We have many choices of loss functions for binary segmentation. One can choose from binary crossentropy, Dice, Jaccard, Tversky, and many other loss functions."
   ]
  },
  {
   "cell_type": "code",
   "metadata": {
    "id": "iBKVLN48Dkt8"
   },
   "source": [
    "import tensorflow as tf"
   ],
   "execution_count": null,
   "outputs": []
  },
  {
   "cell_type": "code",
   "metadata": {
    "id": "NB7mNEowDkt8"
   },
   "source": [
    "optimizer = tf.keras.optimizers.Adam(learning_rate=1e-04)\n",
    "\n",
    "model.compile(\n",
    "    optimizer=optimizer,\n",
    "    loss=nobrainer.losses.dice,\n",
    "    metrics=[nobrainer.metrics.dice, nobrainer.metrics.jaccard],\n",
    ")\n",
    "\n",
    "# A different loss function can be specified as below.\n",
    "\n",
    "# model.compile(\n",
    "#     optimizer=optimizer, \n",
    "#     loss='binary_crossentropy',\n",
    "# )\n",
    "\n",
    "# model.compile(\n",
    "#     optimizer=optimizer, \n",
    "#     loss=nobrainer.losses.dice,\n",
    "# )\n",
    "\n",
    "# model.compile(\n",
    "#     optimizer=optimizer, \n",
    "#     loss=nobrainer.losses.jaccard,\n",
    "# )\n",
    "\n",
    "# model.compile(\n",
    "#     optimizer=optimizer, \n",
    "#     loss=nobrainer.losses.tversky,\n",
    "# )"
   ],
   "execution_count": null,
   "outputs": []
  },
  {
   "cell_type": "markdown",
   "metadata": {
    "id": "gs7tueKYDkt8"
   },
   "source": [
    "# Train and evaluate model\n",
    "\n",
    "$$\n",
    "steps = \\frac{nBlocks}{volume} * \\frac{nVolumes}{batchSize}\n",
    "$$"
   ]
  },
  {
   "cell_type": "code",
   "metadata": {
    "id": "O3q0n61aDkt9"
   },
   "source": [
    "steps_per_epoch = nobrainer.dataset.get_steps_per_epoch(\n",
    "    n_volumes=len(train_paths),\n",
    "    volume_shape=volume_shape,\n",
    "    block_shape=block_shape,\n",
    "    batch_size=batch_size)\n",
    "\n",
    "steps_per_epoch"
   ],
   "execution_count": null,
   "outputs": []
  },
  {
   "cell_type": "code",
   "metadata": {
    "id": "cdgK8IcTDkt9"
   },
   "source": [
    "validation_steps = nobrainer.dataset.get_steps_per_epoch(\n",
    "    n_volumes=len(evaluate_paths),\n",
    "    volume_shape=volume_shape,\n",
    "    block_shape=block_shape,\n",
    "    batch_size=batch_size)\n",
    "\n",
    "validation_steps"
   ],
   "execution_count": null,
   "outputs": []
  },
  {
   "cell_type": "markdown",
   "metadata": {
    "id": "p3k6b604bC16"
   },
   "source": [
    "The following step takes about 6-7 mins with the GPU backend for 5 epochs. You can increase the number of epochs to lower the loss and improve the accuracy of the model.\n",
    "\n",
    "\n"
   ]
  },
  {
   "cell_type": "code",
   "metadata": {
    "scrolled": false,
    "id": "1ZN1AHocDkt9"
   },
   "source": [
    "model.fit(\n",
    "    dataset_train,\n",
    "    epochs=5,\n",
    "    steps_per_epoch=steps_per_epoch, \n",
    "    validation_data=dataset_evaluate, \n",
    "    validation_steps=validation_steps)"
   ],
   "execution_count": null,
   "outputs": []
  },
  {
   "cell_type": "markdown",
   "metadata": {
    "id": "cghlzQskDkt9"
   },
   "source": [
    "# Predict medical images without TFRecords"
   ]
  },
  {
   "cell_type": "code",
   "metadata": {
    "id": "KY7XesFaDkt9"
   },
   "source": [
    "from nobrainer.volume import standardize_numpy\n",
    "import nibabel as nib\n",
    "\n",
    "image_path = evaluate_paths[0][0]\n",
    "out = nobrainer.prediction.predict_from_filepath(image_path, \n",
    "                                           model,\n",
    "                                           block_shape = block_shape,\n",
    "                                           batch_size = batch_size,\n",
    "                                           normalizer = standardize_numpy,\n",
    "                                             )\n",
    "out.shape"
   ],
   "execution_count": null,
   "outputs": []
  },
  {
   "cell_type": "code",
   "metadata": {
    "id": "4xJxR7Ddbd-0"
   },
   "source": [
    "plotting.plot_roi(out, bg_img=image_path, alpha=0.4)"
   ],
   "execution_count": null,
   "outputs": []
  },
  {
   "cell_type": "code",
   "metadata": {
    "id": "FJd8Ne7DbhVT"
   },
   "source": [
    ""
   ],
   "execution_count": null,
   "outputs": []
  }
 ]
}
