{
 "nbformat": 4,
 "nbformat_minor": 0,
 "metadata": {
  "kernelspec": {
   "name": "python3",
   "display_name": "Python 3"
  },
  "colab": {
   "name": "train_on_multiple_gpus.ipynb",
   "provenance": []
  },
  "language_info": {
   "name": "python"
  },
  "accelerator": "GPU"
 },
 "cells": [
  {
   "cell_type": "markdown",
   "metadata": {
    "id": "R3En9MVqilRY"
   },
   "source": [
    "# Train on multiple GPUs\n",
    "\n",
    "In this notebook, we will use Nobrainer to train a model for brain extraction. Brain extraction is a common step in processing neuroimaging data. It is a voxel-wise, binary classification task, where each voxel is classified as brain or not brain. Incidentally, the name for the Nobrainer framework comes from creating models for brain extraction.\n",
    "\n",
    "In the following cells, we will:\n",
    "\n",
    "1. Get sample T1-weighted MR scans as features and FreeSurfer segmentations as labels.\n",
    "    - We will binarize the FreeSurfer to get a precise brainmask.\n",
    "2. Convert the data to TFRecords format.\n",
    "3. Create two Datasets of the features and labels.\n",
    "    - One dataset will be for training and the other will be for evaluation.\n",
    "4. Instantiate a 3D convolutional neural network.\n",
    "5. Choose a loss function and metrics to use.\n",
    "6. Train on part of the data across multiple GPUs.\n",
    "7. Evaluate on the rest of the data.\n",
    "\n",
    "## Google Colaboratory\n",
    "\n",
    "If you are using Colab, please switch your runtime to GPU. To do this, select `Runtime > Change runtime type` in the top menu. Then select GPU under `Hardware accelerator`. A GPU is not necessary to prepare the data, but a GPU is helpful for training a model, which we demonstrate at the end of this notebook. This will give you access to one GPU, but the code will still run properly. To actually train a model on multiple GPUs, you will have to use Cloud services, a high-performance computing cluster, or your own hardware."
   ]
  },
  {
   "cell_type": "code",
   "metadata": {
    "id": "cxESnCBdiwEW"
   },
   "source": [
    "!pip install --no-cache-dir nobrainer nilearn"
   ],
   "execution_count": null,
   "outputs": []
  },
  {
   "cell_type": "code",
   "metadata": {
    "id": "GetIT8J5ilRb"
   },
   "source": [
    "import nobrainer"
   ],
   "execution_count": null,
   "outputs": []
  },
  {
   "cell_type": "markdown",
   "metadata": {
    "id": "nOL3zIrfilRc"
   },
   "source": [
    "# Get sample features and labels\n",
    "\n",
    "We use 9 pairs of volumes for training and 1 pair of volumes for evaluation. Many more volumes would be required to train a model for any useful purpose."
   ]
  },
  {
   "cell_type": "code",
   "metadata": {
    "id": "3gngTmxLilRc"
   },
   "source": [
    "csv_of_filepaths = nobrainer.utils.get_data()\n",
    "filepaths = nobrainer.io.read_csv(csv_of_filepaths)\n",
    "\n",
    "train_paths = filepaths[:9]\n",
    "evaluate_paths = filepaths[9:]"
   ],
   "execution_count": null,
   "outputs": []
  },
  {
   "cell_type": "code",
   "metadata": {
    "id": "PzZnQFawi3zZ"
   },
   "source": [
    "from nilearn import plotting\n",
    "plotting.plot_roi(train_paths[0][1], bg_img=train_paths[0][0], alpha=0.4, vmin=0, vmax=1)"
   ],
   "execution_count": null,
   "outputs": []
  },
  {
   "cell_type": "markdown",
   "metadata": {
    "id": "ksd2O-irilRd"
   },
   "source": [
    "# Convert medical images to TFRecords\n",
    "\n",
    "Remember how many full volumes are in the TFRecords files. This will be necessary to know how many steps are in on training epoch. The default training method needs to know this number, because Datasets don't always know how many items they contain."
   ]
  },
  {
   "cell_type": "code",
   "metadata": {
    "id": "74U_9sjqilRd"
   },
   "source": [
    "# Verify that all volumes have the same shape and that labels are integer-ish.\n",
    "\n",
    "invalid = nobrainer.io.verify_features_labels(train_paths, num_parallel_calls=2)\n",
    "assert not invalid\n",
    "\n",
    "invalid = nobrainer.io.verify_features_labels(evaluate_paths)\n",
    "assert not invalid"
   ],
   "execution_count": null,
   "outputs": []
  },
  {
   "cell_type": "code",
   "metadata": {
    "id": "Yvlr0TgcilRd"
   },
   "source": [
    "!mkdir -p data"
   ],
   "execution_count": null,
   "outputs": []
  },
  {
   "cell_type": "code",
   "metadata": {
    "id": "fiUZIjuVilRe"
   },
   "source": [
    "# Convert training and evaluation data to TFRecords.\n",
    "\n",
    "nobrainer.tfrecord.write(\n",
    "    features_labels=train_paths,\n",
    "    filename_template='data/data-train_shard-{shard:03d}.tfrec',\n",
    "    examples_per_shard=3)\n",
    "\n",
    "nobrainer.tfrecord.write(\n",
    "    features_labels=evaluate_paths,\n",
    "    filename_template='data/data-evaluate_shard-{shard:03d}.tfrec',\n",
    "    examples_per_shard=1)"
   ],
   "execution_count": null,
   "outputs": []
  },
  {
   "cell_type": "code",
   "metadata": {
    "id": "iHtGGm3KilRe"
   },
   "source": [
    "!ls data"
   ],
   "execution_count": null,
   "outputs": []
  },
  {
   "cell_type": "markdown",
   "metadata": {
    "id": "e2oKUM8BilRe"
   },
   "source": [
    "# Create Datasets\n",
    "\n",
    "The batch is split evenly across the available GPUs. For example, if you have 4 GPUs and a batch size of 8, each GPU will get a batch of 2."
   ]
  },
  {
   "cell_type": "code",
   "metadata": {
    "id": "sCdkPNBxilRf"
   },
   "source": [
    "n_classes = 1\n",
    "batch_size = 2\n",
    "volume_shape = (256, 256, 256)\n",
    "block_shape = (128, 128, 128)\n",
    "n_epochs = None\n",
    "augment = False\n",
    "shuffle_buffer_size = 10\n",
    "num_parallel_calls = 2"
   ],
   "execution_count": null,
   "outputs": []
  },
  {
   "cell_type": "code",
   "metadata": {
    "id": "SqoUkgpmilRf"
   },
   "source": [
    "dataset_train = nobrainer.dataset.get_dataset(\n",
    "    file_pattern='data/data-train_shard-*.tfrec',\n",
    "    n_classes=n_classes,\n",
    "    batch_size=batch_size,\n",
    "    volume_shape=volume_shape,\n",
    "    block_shape=block_shape,\n",
    "    n_epochs=n_epochs,\n",
    "    augment=augment,\n",
    "    shuffle_buffer_size=shuffle_buffer_size,\n",
    "    num_parallel_calls=num_parallel_calls,\n",
    ")\n",
    "\n",
    "dataset_evaluate = nobrainer.dataset.get_dataset(\n",
    "    file_pattern='data/data-evaluate_shard-*.tfrec',\n",
    "    n_classes=n_classes,\n",
    "    batch_size=batch_size,\n",
    "    volume_shape=volume_shape,\n",
    "    block_shape=block_shape,\n",
    "    n_epochs=1,\n",
    "    augment=False,\n",
    "    shuffle_buffer_size=None,\n",
    "    num_parallel_calls=1,\n",
    ")"
   ],
   "execution_count": null,
   "outputs": []
  },
  {
   "cell_type": "code",
   "metadata": {
    "id": "BZlKggChilRg"
   },
   "source": [
    "dataset_train"
   ],
   "execution_count": null,
   "outputs": []
  },
  {
   "cell_type": "code",
   "metadata": {
    "id": "PjF_jDTVilRg"
   },
   "source": [
    "dataset_evaluate"
   ],
   "execution_count": null,
   "outputs": []
  },
  {
   "cell_type": "code",
   "metadata": {
    "id": "ZeRc0YQ5ilRg"
   },
   "source": [
    "# Get the steps for an epoch of training and an epoch of validation.\n",
    "steps_per_epoch = nobrainer.dataset.get_steps_per_epoch(\n",
    "    n_volumes=len(train_paths),\n",
    "    volume_shape=volume_shape,\n",
    "    block_shape=block_shape,\n",
    "    batch_size=batch_size)\n",
    "\n",
    "validation_steps = nobrainer.dataset.get_steps_per_epoch(\n",
    "    n_volumes=len(evaluate_paths),\n",
    "    volume_shape=volume_shape,\n",
    "    block_shape=block_shape,\n",
    "    batch_size=batch_size)"
   ],
   "execution_count": null,
   "outputs": []
  },
  {
   "cell_type": "markdown",
   "metadata": {
    "id": "i9aAVkBVilRg"
   },
   "source": [
    "# Instantiate and compile model within scope"
   ]
  },
  {
   "cell_type": "code",
   "metadata": {
    "id": "chyWsFIdilRh"
   },
   "source": [
    "import tensorflow as tf"
   ],
   "execution_count": null,
   "outputs": []
  },
  {
   "cell_type": "code",
   "metadata": {
    "id": "k8yg94NQilRh"
   },
   "source": [
    "strategy = tf.distribute.MirroredStrategy()"
   ],
   "execution_count": null,
   "outputs": []
  },
  {
   "cell_type": "code",
   "metadata": {
    "id": "LekCIjc9ilRh"
   },
   "source": [
    "optimizer = tf.keras.optimizers.Adam(learning_rate=1e-04)\n",
    "\n",
    "with strategy.scope():\n",
    "    model = nobrainer.models.unet(\n",
    "        n_classes=n_classes, \n",
    "        input_shape=(*block_shape, 1),\n",
    "        batchnorm=True)\n",
    "    model.compile(\n",
    "        optimizer=optimizer,\n",
    "        loss=nobrainer.losses.jaccard,\n",
    "        metrics=[nobrainer.metrics.dice])"
   ],
   "execution_count": null,
   "outputs": []
  },
  {
   "cell_type": "code",
   "metadata": {
    "id": "zALpc6SNilRh"
   },
   "source": [
    "model.fit(\n",
    "    dataset_train,\n",
    "    epochs=5,\n",
    "    steps_per_epoch=steps_per_epoch, \n",
    "    validation_data=dataset_evaluate, \n",
    "    validation_steps=validation_steps)"
   ],
   "execution_count": null,
   "outputs": []
  },
  {
   "cell_type": "markdown",
   "metadata": {
    "id": "L4n8idapilRh"
   },
   "source": [
    "# Predict medical images without TFRecords"
   ]
  },
  {
   "cell_type": "code",
   "metadata": {
    "id": "dO-yhzWmilRi"
   },
   "source": [
    "from nobrainer.volume import standardize_numpy\n",
    "import nibabel as nib\n",
    "\n",
    "image_path = evaluate_paths[0][0]\n",
    "out = nobrainer.prediction.predict_from_filepath(image_path, \n",
    "                                           model,\n",
    "                                           block_shape = block_shape,\n",
    "                                           batch_size = batch_size,\n",
    "                                           normalizer = standardize_numpy,\n",
    "                                             )\n",
    "out.shape"
   ],
   "execution_count": null,
   "outputs": []
  },
  {
   "cell_type": "code",
   "metadata": {
    "id": "FDpD7oT9jJ14"
   },
   "source": [
    "plotting.plot_roi(out, bg_img=image_path, alpha=0.4)"
   ],
   "execution_count": null,
   "outputs": []
  },
  {
   "cell_type": "code",
   "metadata": {
    "id": "SgrzFoBvj_Ze"
   },
   "source": [
    ""
   ],
   "execution_count": null,
   "outputs": []
  }
 ]
}
