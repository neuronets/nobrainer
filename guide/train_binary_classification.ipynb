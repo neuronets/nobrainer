{
 "nbformat": 4,
 "nbformat_minor": 0,
 "metadata": {
  "kernelspec": {
   "name": "python3",
   "display_name": "Python 3"
  },
  "colab": {
   "name": "train_binary_classification.ipynb",
   "provenance": []
  },
  "language_info": {
   "name": "python"
  },
  "accelerator": "GPU"
 },
 "cells": [
  {
   "cell_type": "markdown",
   "metadata": {
    "id": "feMRHGRU8-7J"
   },
   "source": [
    "# Train a neural network for binary classification\n",
    "\n",
    "In this notebook, we will use Nobrainer to train a model to classify brains into one of two classes. This task is different from segmentation -- the model will output a single scalar per brain.\n",
    "\n",
    "In the following cells, we will:\n",
    "\n",
    "1. Get sample T1-weighted MR scans as features and random boolean values as labels.\n",
    "2. Convert the data to TFRecords format.\n",
    "3. Create two Datasets of the features and labels.\n",
    "    - One dataset will be for training and the other will be for evaluation.\n",
    "4. Instantiate a 3D convolutional neural network.\n",
    "5. Choose a loss function and metrics to use.\n",
    "6. Train on part of the data.\n",
    "7. Evaluate on the rest of the data.\n",
    "\n",
    "## Google Colaboratory\n",
    "\n",
    "If you are using Colab, please switch your runtime to GPU. To do this, select `Runtime > Change runtime type` in the top menu. Then select GPU under `Hardware accelerator`. A GPU greatly speeds up training, and is recommended for this tutorial."
   ]
  },
  {
   "cell_type": "code",
   "metadata": {
    "id": "PKYdiNPr9Atz"
   },
   "source": [
    "!pip install --no-cache-dir nobrainer"
   ],
   "execution_count": null,
   "outputs": []
  },
  {
   "cell_type": "code",
   "metadata": {
    "id": "cAI_NNpX8-7M"
   },
   "source": [
    "import nobrainer"
   ],
   "execution_count": null,
   "outputs": []
  },
  {
   "cell_type": "markdown",
   "metadata": {
    "id": "bBLiArsb8-7M"
   },
   "source": [
    "# Get sample features and labels\n",
    "\n",
    "We use 9 pairs of volumes for training and 1 pair of volumes for evaluation. Many more volumes would be required to train a model for any useful purpose."
   ]
  },
  {
   "cell_type": "code",
   "metadata": {
    "id": "oYFzYpua8-7N"
   },
   "source": [
    "import random\n",
    "\n",
    "csv_of_filepaths = nobrainer.utils.get_data()\n",
    "filepaths = nobrainer.io.read_csv(csv_of_filepaths)\n",
    "\n",
    "# Add random boolean values\n",
    "filepaths = [(x, random.choice([0, 1])) for x, _ in filepaths]\n",
    "\n",
    "train_paths = filepaths[:9]\n",
    "evaluate_paths = filepaths[9:]"
   ],
   "execution_count": null,
   "outputs": []
  },
  {
   "cell_type": "code",
   "metadata": {
    "id": "jZQyH_5f8-7N"
   },
   "source": [
    "filepaths"
   ],
   "execution_count": null,
   "outputs": []
  },
  {
   "cell_type": "markdown",
   "metadata": {
    "id": "lJ40IAXC8-7O"
   },
   "source": [
    "# Convert medical images to TFRecords\n",
    "\n",
    "Remember how many full volumes are in the TFRecords files. This will be necessary to know how many steps are in on training epoch. The default training method needs to know this number, because Datasets don't always know how many items they contain."
   ]
  },
  {
   "cell_type": "code",
   "metadata": {
    "id": "Cz1ayX_48-7O"
   },
   "source": [
    "# Verify that all volumes have the same shape and that labels are integer-ish.\n",
    "\n",
    "invalid = nobrainer.io.verify_features_labels(train_paths)\n",
    "assert not invalid\n",
    "\n",
    "invalid = nobrainer.io.verify_features_labels(evaluate_paths)\n",
    "assert not invalid"
   ],
   "execution_count": null,
   "outputs": []
  },
  {
   "cell_type": "code",
   "metadata": {
    "id": "oKGs9Jxo8-7O"
   },
   "source": [
    "!mkdir -p data"
   ],
   "execution_count": null,
   "outputs": []
  },
  {
   "cell_type": "code",
   "metadata": {
    "scrolled": true,
    "id": "NGc_Xd498-7P"
   },
   "source": [
    "# Convert training and evaluation data to TFRecords.\n",
    "\n",
    "nobrainer.tfrecord.write(\n",
    "    features_labels=train_paths,\n",
    "    filename_template='data/data-train_shard-{shard:03d}.tfrec',\n",
    "    examples_per_shard=3)\n",
    "\n",
    "nobrainer.tfrecord.write(\n",
    "    features_labels=evaluate_paths,\n",
    "    filename_template='data/data-evaluate_shard-{shard:03d}.tfrec',\n",
    "    examples_per_shard=1)"
   ],
   "execution_count": null,
   "outputs": []
  },
  {
   "cell_type": "code",
   "metadata": {
    "id": "Eg0mAF0G8-7P"
   },
   "source": [
    "!ls data"
   ],
   "execution_count": null,
   "outputs": []
  },
  {
   "cell_type": "markdown",
   "metadata": {
    "id": "_62HkAdf8-7P"
   },
   "source": [
    "# Create Datasets"
   ]
  },
  {
   "cell_type": "code",
   "metadata": {
    "id": "ZpVYUEI08-7Q"
   },
   "source": [
    "n_classes = 1\n",
    "batch_size = 2\n",
    "volume_shape = (256, 256, 256)\n",
    "block_shape = (128, 128, 128)\n",
    "n_epochs = None\n",
    "num_parallel_calls = 2"
   ],
   "execution_count": null,
   "outputs": []
  },
  {
   "cell_type": "code",
   "metadata": {
    "id": "5XuBzbGa8-7Q"
   },
   "source": [
    "dataset_train = nobrainer.dataset.get_dataset(\n",
    "    file_pattern=\"data/data-train_shard*.tfrec\",\n",
    "    n_classes=n_classes,\n",
    "    batch_size=batch_size,\n",
    "    volume_shape=volume_shape,\n",
    "    scalar_label=True,\n",
    "    block_shape=block_shape,\n",
    "    n_epochs=n_epochs,\n",
    "    num_parallel_calls=num_parallel_calls,\n",
    ")\n",
    "\n",
    "dataset_evaluate = nobrainer.dataset.get_dataset(\n",
    "    file_pattern=\"data/data-evaluate_shard-*.tfrec\",\n",
    "    n_classes=n_classes,\n",
    "    batch_size=batch_size,\n",
    "    volume_shape=volume_shape,\n",
    "    scalar_label=True,\n",
    "    block_shape=block_shape,\n",
    "    n_epochs=1,\n",
    "    num_parallel_calls=num_parallel_calls,\n",
    ")"
   ],
   "execution_count": null,
   "outputs": []
  },
  {
   "cell_type": "markdown",
   "metadata": {
    "id": "ufmcFZc28-7Q"
   },
   "source": [
    "# Instantiate a neural network"
   ]
  },
  {
   "cell_type": "code",
   "metadata": {
    "id": "DY3vtxTJ8-7Q"
   },
   "source": [
    "import tensorflow as tf\n",
    "\n",
    "model = tf.keras.Sequential([\n",
    "    tf.keras.layers.Conv3D(filters=12, kernel_size=3, padding=\"same\", \n",
    "                           strides=2, activation=\"relu\", input_shape=(*block_shape, 1)),\n",
    "    tf.keras.layers.Flatten(),\n",
    "    tf.keras.layers.Dense(128),\n",
    "    tf.keras.layers.Dense(n_classes, activation=\"sigmoid\")\n",
    "])"
   ],
   "execution_count": null,
   "outputs": []
  },
  {
   "cell_type": "code",
   "metadata": {
    "scrolled": false,
    "id": "m56yDjZV8-7R"
   },
   "source": [
    "model.summary()"
   ],
   "execution_count": null,
   "outputs": []
  },
  {
   "cell_type": "markdown",
   "metadata": {
    "id": "sJYREltD8-7R"
   },
   "source": [
    "# Choose a loss function and metrics"
   ]
  },
  {
   "cell_type": "code",
   "metadata": {
    "id": "HmrOMCi58-7R"
   },
   "source": [
    "optimizer = tf.keras.optimizers.Adam(learning_rate=1e-04)\n",
    "\n",
    "model.compile(\n",
    "    optimizer=optimizer,\n",
    "    loss=tf.keras.losses.binary_crossentropy,\n",
    "    metrics=[\"accuracy\"],\n",
    ")"
   ],
   "execution_count": null,
   "outputs": []
  },
  {
   "cell_type": "markdown",
   "metadata": {
    "id": "WMolsTiG8-7R"
   },
   "source": [
    "# Train and evaluate model\n",
    "\n",
    "$$\n",
    "steps = \\frac{nBlocks}{volume} * \\frac{nVolumes}{batchSize}\n",
    "$$"
   ]
  },
  {
   "cell_type": "code",
   "metadata": {
    "id": "2UbAKYKr8-7R"
   },
   "source": [
    "steps_per_epoch = nobrainer.dataset.get_steps_per_epoch(\n",
    "    n_volumes=len(train_paths),\n",
    "    volume_shape=volume_shape,\n",
    "    block_shape=block_shape,\n",
    "    batch_size=batch_size)\n",
    "\n",
    "steps_per_epoch"
   ],
   "execution_count": null,
   "outputs": []
  },
  {
   "cell_type": "code",
   "metadata": {
    "id": "V2YMQ7UA8-7R"
   },
   "source": [
    "validation_steps = nobrainer.dataset.get_steps_per_epoch(\n",
    "    n_volumes=len(evaluate_paths),\n",
    "    volume_shape=volume_shape,\n",
    "    block_shape=block_shape,\n",
    "    batch_size=batch_size)\n",
    "\n",
    "validation_steps"
   ],
   "execution_count": null,
   "outputs": []
  },
  {
   "cell_type": "code",
   "metadata": {
    "scrolled": false,
    "id": "BqeL3RP08-7S"
   },
   "source": [
    "model.fit(\n",
    "    dataset_train,\n",
    "    epochs=5,\n",
    "    steps_per_epoch=steps_per_epoch, \n",
    "    validation_data=dataset_evaluate, \n",
    "    validation_steps=validation_steps)"
   ],
   "execution_count": null,
   "outputs": []
  },
  {
   "cell_type": "markdown",
   "metadata": {
    "id": "NoPBhITS8-7S"
   },
   "source": [
    "# Predict medical images without TFRecords\n",
    "\n",
    "In this example we will use some of the nobrainer routines to now use the model to make predictions. Since the model uses blocks, there will be a prediction per block. How such predictions should be combined will depend on the nature of the application and an actual model, not the toy example shown here. "
   ]
  },
  {
   "cell_type": "code",
   "metadata": {
    "id": "y1QM__Y88-7S"
   },
   "source": [
    "import nibabel as nb\n",
    "from nobrainer.volume import standardize_numpy, to_blocks_numpy\n",
    "\n",
    "# Use one of the evaluation images\n",
    "image_path = evaluate_paths[0][0]\n",
    "# Load using nibabel and return a numpy array\n",
    "img = nb.load(image_path).get_data()\n",
    "# perform some preprocessing to standardize the range\n",
    "features = standardize_numpy(img)\n",
    "# convert to blocks\n",
    "features = to_blocks_numpy(features, block_shape=block_shape)\n",
    "# add the extra dimension for a channel\n",
    "features = features[..., None]\n",
    "# run inference using the trained model\n",
    "outputs = model.predict(features, batch_size=batch_size, verbose=1)"
   ],
   "execution_count": null,
   "outputs": []
  },
  {
   "cell_type": "markdown",
   "metadata": {
    "id": "WGgELEBZCkBY"
   },
   "source": [
    "Display the outputs. Note that for an input data of 256^3 with 128^3 block shape there will be 8 blocks and that is what the number of outputs for this model are."
   ]
  },
  {
   "cell_type": "code",
   "metadata": {
    "id": "858rcQU5Hh-L"
   },
   "source": [
    "outputs"
   ],
   "execution_count": null,
   "outputs": []
  },
  {
   "cell_type": "code",
   "metadata": {
    "id": "qiU67C88mGRT"
   },
   "source": [
    ""
   ],
   "execution_count": null,
   "outputs": []
  }
 ]
}
